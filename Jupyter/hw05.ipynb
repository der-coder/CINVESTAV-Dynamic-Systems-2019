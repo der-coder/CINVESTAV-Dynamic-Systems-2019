{
 "cells": [
  {
   "cell_type": "markdown",
   "metadata": {},
   "source": [
    "# Homework \\#05"
   ]
  },
  {
   "cell_type": "markdown",
   "metadata": {},
   "source": [
    "Do exam \\#01 once again with the new profile of friction."
   ]
  },
  {
   "cell_type": "markdown",
   "metadata": {},
   "source": [
    "Given a spring mass damper system as shown below, obtain a function $x(t)$ to describe the movement of the object.\n",
    "\n",
    "Consider $ F(t) = \\begin{cases} \n",
    "      t &  0 \\leq t < 2  \\\\\n",
    "      2 & 2 \\leq t < 4 \\\\\n",
    "      2(5-t) & 4 \\leq t < 5 \\\\\n",
    "      0 & \\text{for all other cases}\n",
    "   \\end{cases}\n",
    "$"
   ]
  },
  {
   "cell_type": "markdown",
   "metadata": {},
   "source": [
    "> Picture goes here"
   ]
  },
  {
   "cell_type": "markdown",
   "metadata": {},
   "source": [
    "Friction follows the following behaviour\n",
    "\n",
    "$F_f (t) = \\begin{cases} \n",
    "      t &  0 \\leq t < \\mu N  \\\\\n",
    "      \\mu N & \\mu N \\leq t < t_x \\\\\n",
    "      -\\mu N & t_x \\leq t < 5 \\\\\n",
    "      0 & \\text{for all other cases}\n",
    "   \\end{cases}$\n",
    "   \n",
    "$N = m*g$"
   ]
  },
  {
   "cell_type": "markdown",
   "metadata": {},
   "source": [
    "The values for the constants are as follows:\n",
    "* Spring coefficient $k = 1$\n",
    "* Damper coefficient $b = 2$\n",
    "* Mass $m = 0.5$\n",
    "* Friction coefficient $\\mu = 0.1$\n",
    "* Gravity $g = 9.81$"
   ]
  },
  {
   "cell_type": "code",
   "execution_count": null,
   "metadata": {},
   "outputs": [],
   "source": [
    "k = 1\n",
    "b = 2\n",
    "m = 0.5\n",
    "mu = 0.1\n",
    "g = 9.81"
   ]
  },
  {
   "cell_type": "markdown",
   "metadata": {},
   "source": [
    "## Solution"
   ]
  },
  {
   "cell_type": "markdown",
   "metadata": {},
   "source": [
    "* Split the analysis of the system in different time intervals, taking into account the change in values for both $F(t)$ and $F_f (t)$.\n",
    "\n",
    "* Obtain the homogeneous and particular solutions at each time interval, and determine the coefficients associated for each of them.\n",
    "\n",
    "* Find the value for $t_x$. Recall $\\dot{x}(t_x)=0$."
   ]
  },
  {
   "cell_type": "code",
   "execution_count": null,
   "metadata": {},
   "outputs": [],
   "source": []
  },
  {
   "cell_type": "markdown",
   "metadata": {},
   "source": [
    "### General solution to the system"
   ]
  },
  {
   "cell_type": "markdown",
   "metadata": {},
   "source": [
    "The sum of forces at any point in time is \n",
    "\n",
    "$\\sum F = F(t) - F_f (t) - F_b - F_k$ \n",
    "\n",
    "$F_k = k x(t)$\n",
    "\n",
    "$F_b = b \\dot{x}(t)$\n",
    "\n",
    "Recall that $\\sum F = m \\ddot{x}(t)$ and rewrite the equation as follows\n",
    "\n",
    "$ m \\ddot{x}(t) = F(t) - F_f (t) - b \\ddot{x}(t) - k x(t)$\n",
    "\n",
    "Reorder the terms to express the equation as an ODE\n",
    "\n",
    "$ m \\ddot{x}(t) + b \\ddot{x}(t) + k x(t) = F(t) - F_f (t)$\n",
    "\n",
    "Divide all terms by $m$\n",
    "\n",
    "$  \\ddot{x}(t) + \\dfrac{b}{m} \\ddot{x}(t) + \\dfrac{k}{m} x(t) = \\dfrac{F(t) - F_f (t)}{m}$\n",
    "\n",
    "Evaluate the known constants\n",
    "\n",
    "$  \\ddot{x}(t) + 4 \\ddot{x}(t) + 2 x(t) = 2 F(t) - 2 F_f (t)$\n",
    "\n",
    "\n",
    "The general solution to this ODE will have the following form\n",
    "\n",
    "$x(t) = x_h (t) + x_p (t)$\n",
    "\n"
   ]
  },
  {
   "cell_type": "code",
   "execution_count": null,
   "metadata": {},
   "outputs": [],
   "source": []
  },
  {
   "cell_type": "markdown",
   "metadata": {},
   "source": [
    "#### Homogeneous solution"
   ]
  },
  {
   "cell_type": "markdown",
   "metadata": {},
   "source": [
    "The homogeneous solution is obtained by replacing the values on the right hand side of the equation with 0 and solving the ODE.\n",
    "\n",
    "$\\ddot{x}(t) + 4 \\ddot{x}(t) + 2 x(t) = 0$\n",
    "\n",
    "$\\lambda^2 + 4 \\lambda +2 = 0$\n",
    "\n",
    "$\\lambda = \\dfrac{-4\\pm \\sqrt{4^2 - 4 (1) (2)}}{2}$\n",
    "\n",
    "$\\lambda = \\dfrac{-4\\pm \\sqrt{8}}{2}$\n",
    "\n",
    "$\\lambda = -2\\pm \\sqrt{2}$\n",
    "\n",
    "$\\lambda_1 = -2 + \\sqrt{2}$\n",
    "\n",
    "$\\lambda_2 = -2 - \\sqrt{2}$"
   ]
  },
  {
   "cell_type": "code",
   "execution_count": 2,
   "metadata": {},
   "outputs": [],
   "source": [
    "lambda_1 = -2 + sqrt(2)\n",
    "lambda_2 = -2 - sqrt(2)"
   ]
  },
  {
   "cell_type": "markdown",
   "metadata": {},
   "source": [
    "The homogeneous solution is the following\n",
    "\n",
    "$x_h (t) = c_1 \\exp{(\\lambda_1 t)} + c_2 \\exp{(\\lambda_2 t)}$\n",
    "\n",
    "$\\dot{x}_h (t) = c_1 \\lambda_1 \\exp{(\\lambda_1 t)} + c_2 \\lambda_2 \\exp{(\\lambda_2 t)}$"
   ]
  },
  {
   "cell_type": "code",
   "execution_count": 3,
   "metadata": {},
   "outputs": [],
   "source": [
    "def position(coeff_1, coeff_2, t, x_p):\n",
    "    pos = coeff_1 * exp(lambda_1 * t) +  coeff_2 * exp(lambda_2 * t) + x_p\n",
    "    return pos"
   ]
  },
  {
   "cell_type": "code",
   "execution_count": 4,
   "metadata": {},
   "outputs": [],
   "source": [
    "def velocity(coeff_1, coeff_2, t, d_x_p):\n",
    "    vel = pos = coeff_1 * lambda_1 * exp(lambda_1 * t) +  coeff_2 * lambda_2 * exp(lambda_2 * t) + d_x_p\n",
    "    return vel"
   ]
  },
  {
   "cell_type": "markdown",
   "metadata": {},
   "source": [
    "#### Particular solution"
   ]
  },
  {
   "cell_type": "markdown",
   "metadata": {},
   "source": [
    "The particulara solution is different at each time interval. See in the following sections for the process of obtaining it at each time interval."
   ]
  },
  {
   "cell_type": "markdown",
   "metadata": {},
   "source": [
    "### Obtaining values for coefficients"
   ]
  },
  {
   "cell_type": "markdown",
   "metadata": {},
   "source": [
    "The coefficients $c_1$ and $c_2$ are obtained at each time interval based on the initial conditions for each of them ($x(\\tau)$, $\\dot{x}(\\tau)$).\n",
    "\n",
    "A general solution is presented below\n",
    "\n",
    "Let $t=\\tau$ and evaluate for $x(t)$ and $\\dot{x}(t)$\n",
    "\n",
    "$x(\\tau) = x_\\tau$\n",
    "\n",
    "$\\dot{x}(\\tau) = \\dot{x}_\\tau$\n",
    "\n",
    "Solve for $c_2$ in $x_\\tau$\n",
    "\n",
    "$x_{\\tau} = c_1 \\exp{(\\lambda_1 \\tau)} + c_2 \\exp{(\\lambda_2 \\tau)} + x_p (\\tau)$\n",
    "\n",
    "$x_{\\tau} - x_p (\\tau) = c_1 \\exp{(\\lambda_1 \\tau)} + c_2 \\exp{(\\lambda_2 \\tau)} $\n",
    "\n",
    "$x_{\\tau} - x_p (\\tau) - c_1 \\exp{(\\lambda_1 \\tau)} = c_2 \\exp{(\\lambda_2 \\tau)} $\n",
    "\n",
    "$c_2   = \\dfrac{x_{\\tau} - x_p (\\tau) - c_1 \\exp{(\\lambda_1 \\tau)}}{\\exp{(\\lambda_2 \\tau)}} $\n",
    "\n",
    "Now evaluate $c_2$ in $\\dot{x}_\\tau$ and solve for $c_1$. Recall that the first derivative is written as follows\n",
    "\n",
    "$\\dot{x}(t) = c_1 \\lambda_1 \\exp{(\\lambda_1 t)} + c_2 \\lambda_2 \\exp{(\\lambda_2 t)} +  \\dot{x}_p (t) $\n",
    "\n",
    "Substituting $c_2$\n",
    "\n",
    "$\\dot{x}_{\\tau} = c_1 \\lambda_1 \\exp{(\\lambda_1 t)} + (\\dfrac{x_{\\tau} - x_p (\\tau) - c_1 \\exp{(\\lambda_1 \\tau)}}{\\exp{(\\lambda_2 \\tau)}}) \\lambda_2 \\exp{(\\lambda_2 t)} +  \\dot{x}_p (\\tau) $\n",
    "\n",
    "Factorise $c_1$ and simplify.\n",
    "\n",
    "$\\dot{x}_{\\tau} = c_1 \\lambda_1 \\exp{(\\lambda_1 t)} + (x_{\\tau} - x_p (\\tau) - c_1 \\exp{(\\lambda_1 \\tau)}) \\lambda_2  +  \\dot{x}_p (\\tau) $\n",
    "\n",
    "$\\dot{x}_{\\tau} = c_1 (\\lambda_1 \\exp{(\\lambda_1 t)} - \\lambda_2 \\exp{(\\lambda_1 \\tau)} )  + \\lambda_2 x_{\\tau} - \\lambda_2 x_p (\\tau)  +  \\dot{x}_p (\\tau) $\n",
    "\n",
    "Solve for $c_1$\n",
    "\n",
    "$c_1 = \\dfrac{\\dot{x}_{\\tau} - \\lambda_2 x_{\\tau} + \\lambda_2 x_p (\\tau)  -  \\dot{x}_p (\\tau)}{ \\lambda_1 \\exp{(\\lambda_1 \\tau)} - \\lambda_2 \\exp{(\\lambda_1 \\tau)}  }  $\n"
   ]
  },
  {
   "cell_type": "code",
   "execution_count": 5,
   "metadata": {},
   "outputs": [],
   "source": [
    "def c1(tau, x_tau, d_x_tau, x_p_tau, d_x_p_tau):\n",
    "    numerator = d_x_tau - lambda_2 * x_tau + lambda_2 * x_p_tau - d_x_p_tau\n",
    "    denominator = lambda_1*exp(lambda_1 * tau) - lambda_2 * exp(lambda_1 * tau)\n",
    "    \n",
    "    c = numerator/denominator\n",
    "    \n",
    "    return c"
   ]
  },
  {
   "cell_type": "code",
   "execution_count": 6,
   "metadata": {},
   "outputs": [],
   "source": [
    "def c2(tau, x_tau, x_p_tau, coeff):\n",
    "    numerator = x_tau - x_p_tau - coeff * exp(lambda_1 * tau)\n",
    "    denominator = exp(lambda_2 * tau)\n",
    "    \n",
    "    c = numerator/denominator\n",
    "    \n",
    "    return c"
   ]
  },
  {
   "cell_type": "markdown",
   "metadata": {},
   "source": [
    "## Time intervals"
   ]
  },
  {
   "cell_type": "markdown",
   "metadata": {},
   "source": [
    "$\\mu N \\leq t < 2 $"
   ]
  },
  {
   "cell_type": "code",
   "execution_count": 21,
   "metadata": {},
   "outputs": [],
   "source": [
    "x_0 = 0\n",
    "d_x_0 = 0\n",
    "\n",
    "time = mu*g*m\n",
    "\n",
    "x_particular =  -2\n",
    "d_x_particular = 1"
   ]
  },
  {
   "cell_type": "code",
   "execution_count": 22,
   "metadata": {},
   "outputs": [
    {
     "name": "stdout",
     "output_type": "stream",
     "text": [
      "2.74657491745229\n",
      "-0.323745944549458\n"
     ]
    }
   ],
   "source": [
    "coefficient_1 = n(c1(time, x_0, d_x_0, x_particular, d_x_particular))\n",
    "coefficient_2 = n(c2(time,x_0,x_particular, coefficient_1))\n",
    "\n",
    "print(coefficient_1)\n",
    "print(coefficient_2)"
   ]
  },
  {
   "cell_type": "code",
   "execution_count": 23,
   "metadata": {},
   "outputs": [
    {
     "name": "stdout",
     "output_type": "stream",
     "text": [
      "0.360255844424270\n",
      "0.502630055483017\n"
     ]
    }
   ],
   "source": [
    "time = 2\n",
    "\n",
    "x_particular = time -2 - mu*g/2\n",
    "d_x_particular = 1\n",
    "\n",
    "x_0 = n(position(coefficient_1,coefficient_2,time, x_particular))\n",
    "d_x_0 = n(velocity(coefficient_1,coefficient_2,time, d_x_particular))\n",
    "\n",
    "print(x_0)\n",
    "print(d_x_0)"
   ]
  },
  {
   "cell_type": "markdown",
   "metadata": {},
   "source": [
    "$2 \\leq t < 4$"
   ]
  },
  {
   "cell_type": "code",
   "execution_count": 24,
   "metadata": {},
   "outputs": [
    {
     "name": "stdout",
     "output_type": "stream",
     "text": [
      "-3.90330820174655\n",
      "55.7102837821427\n"
     ]
    }
   ],
   "source": [
    "x_particular = 1.5095\n",
    "d_x_particular = 0\n",
    "\n",
    "coefficient_1 = n(c1(time, x_0, d_x_0, x_particular, d_x_particular))\n",
    "coefficient_2 = n(c2(time,x_0,x_particular, coefficient_1))\n",
    "\n",
    "print(coefficient_1)\n",
    "print(coefficient_2)"
   ]
  },
  {
   "cell_type": "code",
   "execution_count": 25,
   "metadata": {},
   "outputs": [
    {
     "name": "stdout",
     "output_type": "stream",
     "text": [
      "1.13474976109916\n",
      "0.219338942729114\n"
     ]
    }
   ],
   "source": [
    "time = 4\n",
    "\n",
    "x_particular = 1.5095\n",
    "d_x_particular = 0\n",
    "\n",
    "x_0 = n(position(coefficient_1,coefficient_2,time, x_particular))\n",
    "d_x_0 = n(velocity(coefficient_1,coefficient_2,time, d_x_particular))\n",
    "\n",
    "print(x_0)\n",
    "print(d_x_0)"
   ]
  },
  {
   "cell_type": "markdown",
   "metadata": {},
   "source": [
    "$4 \\leq t < t_x$"
   ]
  },
  {
   "cell_type": "code",
   "execution_count": 26,
   "metadata": {},
   "outputs": [
    {
     "name": "stdout",
     "output_type": "stream",
     "text": [
      "-46.8225106055194\n",
      "103577.094918444\n"
     ]
    }
   ],
   "source": [
    "x_particular = -2*4+27.019/2\n",
    "d_x_particular = -2\n",
    "\n",
    "coefficient_1 = n(c1(time, x_0, d_x_0, x_particular, d_x_particular))\n",
    "coefficient_2 = n(c2(time,x_0,x_particular, coefficient_1))\n",
    "\n",
    "print(coefficient_1)\n",
    "print(coefficient_2)"
   ]
  },
  {
   "cell_type": "code",
   "execution_count": 27,
   "metadata": {},
   "outputs": [
    {
     "name": "stdout",
     "output_type": "stream",
     "text": [
      "1.18381423276046\n",
      "0\n"
     ]
    }
   ],
   "source": [
    "time = 4.37401\n",
    "\n",
    "x_particular = -2 * time + 13.5095\n",
    "d_x_particular = 0\n",
    "\n",
    "x_0 = n(position(coefficient_1,coefficient_2,time, x_particular))\n",
    "# d_x_0 = n(velocity(coefficient_1,coefficient_2,time, d_x_particular))\n",
    "d_x_0 = 0\n",
    "\n",
    "print(x_0)\n",
    "print(d_x_0)"
   ]
  },
  {
   "cell_type": "markdown",
   "metadata": {},
   "source": [
    "$t_x \\leq t < 5$"
   ]
  },
  {
   "cell_type": "code",
   "execution_count": 28,
   "metadata": {},
   "outputs": [
    {
     "name": "stdout",
     "output_type": "stream",
     "text": [
      "-62.1750159524794\n",
      "725204.958456546\n"
     ]
    }
   ],
   "source": [
    "x_particular = -2*time+n((20+mu*g)+8)/2\n",
    "d_x_particular = -2\n",
    "\n",
    "coefficient_1 = n(c1(time, x_0, d_x_0, x_particular, d_x_particular))\n",
    "coefficient_2 = n(c2(time,x_0,x_particular, coefficient_1))\n",
    "\n",
    "print(coefficient_1)\n",
    "print(coefficient_2)"
   ]
  },
  {
   "cell_type": "code",
   "execution_count": 29,
   "metadata": {},
   "outputs": [
    {
     "name": "stdout",
     "output_type": "stream",
     "text": [
      "1.19495472897330\n",
      "-0.148606758212702\n"
     ]
    }
   ],
   "source": [
    "time = 5\n",
    "\n",
    "x_particular = -2*time+n((20+mu*g)+8)/2\n",
    "d_x_particular = -2\n",
    "\n",
    "x_0 = n(position(coefficient_1,coefficient_2,time, x_particular))\n",
    "d_x_0 = n(velocity(coefficient_1,coefficient_2,time, d_x_particular))\n",
    "\n",
    "print(x_0)\n",
    "print(d_x_0)"
   ]
  },
  {
   "cell_type": "markdown",
   "metadata": {},
   "source": [
    "$5 \\leq t$"
   ]
  },
  {
   "cell_type": "code",
   "execution_count": 30,
   "metadata": {},
   "outputs": [
    {
     "name": "stdout",
     "output_type": "stream",
     "text": [
      "14.9251761288676\n",
      "-2.42112439762277e6\n"
     ]
    }
   ],
   "source": [
    "x_particular = mu*g/2\n",
    "d_x_particular = 0\n",
    "\n",
    "coefficient_1 = n(c1(time, x_0, d_x_0, x_particular, d_x_particular))\n",
    "coefficient_2 = n(c2(time,x_0,x_particular, coefficient_1))\n",
    "\n",
    "print(coefficient_1)\n",
    "print(coefficient_2)"
   ]
  },
  {
   "cell_type": "code",
   "execution_count": 38,
   "metadata": {},
   "outputs": [
    {
     "name": "stdout",
     "output_type": "stream",
     "text": [
      "1.06881472054665\n",
      "-0.290872341365534\n"
     ]
    }
   ],
   "source": [
    "time = 5.5\n",
    "\n",
    "x_0 = n(position(coefficient_1,coefficient_2,time, x_particular))\n",
    "d_x_0 = n(velocity(coefficient_1,coefficient_2,time, d_x_particular))\n",
    "\n",
    "print(x_0)\n",
    "print(d_x_0)"
   ]
  },
  {
   "cell_type": "code",
   "execution_count": 39,
   "metadata": {},
   "outputs": [
    {
     "name": "stdout",
     "output_type": "stream",
     "text": [
      "0.931544488744875\n",
      "-0.249669927422365\n"
     ]
    }
   ],
   "source": [
    "time = 6\n",
    "\n",
    "x_0 = n(position(coefficient_1,coefficient_2,time, x_particular))\n",
    "d_x_0 = n(velocity(coefficient_1,coefficient_2,time, d_x_particular))\n",
    "\n",
    "print(x_0)\n",
    "print(d_x_0)"
   ]
  },
  {
   "cell_type": "code",
   "execution_count": 40,
   "metadata": {},
   "outputs": [
    {
     "name": "stdout",
     "output_type": "stream",
     "text": [
      "0.533146289803459\n",
      "-0.0249816080002563\n"
     ]
    }
   ],
   "source": [
    "time = 10\n",
    "\n",
    "x_0 = n(position(coefficient_1,coefficient_2,time, x_particular))\n",
    "d_x_0 = n(velocity(coefficient_1,coefficient_2,time, d_x_particular))\n",
    "\n",
    "print(x_0)\n",
    "print(d_x_0)"
   ]
  },
  {
   "cell_type": "code",
   "execution_count": 41,
   "metadata": {},
   "outputs": [
    {
     "name": "stdout",
     "output_type": "stream",
     "text": [
      "0.492779618660285\n",
      "-0.00133536969415559\n"
     ]
    }
   ],
   "source": [
    "time = 15\n",
    "\n",
    "x_0 = n(position(coefficient_1,coefficient_2,time, x_particular))\n",
    "d_x_0 = n(velocity(coefficient_1,coefficient_2,time, d_x_particular))\n",
    "\n",
    "print(x_0)\n",
    "print(d_x_0)"
   ]
  },
  {
   "cell_type": "code",
   "execution_count": 42,
   "metadata": {},
   "outputs": [
    {
     "name": "stdout",
     "output_type": "stream",
     "text": [
      "0.490621854933257\n",
      "-0.0000713809672600007\n"
     ]
    }
   ],
   "source": [
    "time = 20\n",
    "\n",
    "x_0 = n(position(coefficient_1,coefficient_2,time, x_particular))\n",
    "d_x_0 = n(velocity(coefficient_1,coefficient_2,time, d_x_particular))\n",
    "\n",
    "print(x_0)\n",
    "print(d_x_0)"
   ]
  },
  {
   "cell_type": "code",
   "execution_count": 43,
   "metadata": {},
   "outputs": [
    {
     "name": "stdout",
     "output_type": "stream",
     "text": [
      "0.490500000002843\n",
      "-1.66520576433830e-12\n"
     ]
    }
   ],
   "source": [
    "time = 50\n",
    "\n",
    "x_0 = n(position(coefficient_1,coefficient_2,time, x_particular))\n",
    "d_x_0 = n(velocity(coefficient_1,coefficient_2,time, d_x_particular))\n",
    "\n",
    "print(x_0)\n",
    "print(d_x_0)"
   ]
  },
  {
   "cell_type": "code",
   "execution_count": null,
   "metadata": {},
   "outputs": [],
   "source": []
  }
 ],
 "metadata": {
  "kernelspec": {
   "display_name": "SageMath 8.9",
   "language": "sage",
   "name": "sagemath"
  },
  "language_info": {
   "codemirror_mode": {
    "name": "ipython",
    "version": 2
   },
   "file_extension": ".py",
   "mimetype": "text/x-python",
   "name": "python",
   "nbconvert_exporter": "python",
   "pygments_lexer": "ipython2",
   "version": "2.7.16"
  }
 },
 "nbformat": 4,
 "nbformat_minor": 4
}
